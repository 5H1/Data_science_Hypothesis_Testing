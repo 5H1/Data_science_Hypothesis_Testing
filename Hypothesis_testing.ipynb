{
 "cells": [
  {
   "cell_type": "code",
   "execution_count": 38,
   "id": "52afde6e-8a0a-4deb-b296-a376c421d321",
   "metadata": {},
   "outputs": [],
   "source": [
    "\n",
    "##given problem\n",
    "\n",
    "###Objective:\n",
    "\n",
    "###To investigate the restaurant owners claim about the increase in weekly operating costs using hypothesis testing.\n",
    "\n",
    "###Data Provided:\n",
    "\n",
    "###The theoretical weekly operating cost model: W = $1,000 + $5X\n",
    "###Sample of 25 restaurants with a mean weekly cost of Rs. 3,050\n",
    "###Number of units produced in a week (X) follows a normal distribution with \n",
    "###a mean (μ) of 600 units and a standard deviation (σ) of 25 units\n",
    "\n"
   ]
  },
  {
   "cell_type": "code",
   "execution_count": 57,
   "id": "31ec946c-c414-4cfd-8d8a-d07d2905f806",
   "metadata": {},
   "outputs": [],
   "source": [
    "#FRAMING HYPOTHESIS\n",
    "##H 0:The mean operating cost is equal to the theoretical mean weekly cost developed by the cost model.\n",
    "#that is (μ < = 4000)\n",
    "\n",
    "##H 1:The mean operating cost is greater than the mean weekly cost developed by the cost model.\n",
    "#that is (μ > 4000)\n"
   ]
  },
  {
   "cell_type": "code",
   "execution_count": 68,
   "id": "307a0d2b-278b-4990-b1fb-99b3680a5f69",
   "metadata": {},
   "outputs": [
    {
     "name": "stdout",
     "output_type": "stream",
     "text": [
      "z-statistic value is : -38.0\n"
     ]
    }
   ],
   "source": [
    "\n",
    "###declaring variables\n",
    "\n",
    "#method 1\n",
    "#for finding z-statistic value\n",
    "samplemean=3050\n",
    "samplesize=25\n",
    "standard_dev=125\n",
    "alpha=0.05\n",
    "popu_mean=4000\n",
    "\n",
    "import pandas as pd\n",
    "import numpy as np\n",
    "from scipy import stats\n",
    "\n",
    "xbar=3050\n",
    "mu=4000\n",
    "s=125\n",
    "n=25\n",
    "\n",
    "zstat=(xbar-mu)/(s/np.sqrt(n))\n",
    "print(\"z-statistic value is :\",zstat)"
   ]
  },
  {
   "cell_type": "code",
   "execution_count": 18,
   "id": "8bfaffbc-d750-43f0-abbc-07977010b137",
   "metadata": {},
   "outputs": [
    {
     "name": "stdout",
     "output_type": "stream",
     "text": [
      "Test Statistic: -38.0\n"
     ]
    }
   ],
   "source": [
    "#method 2\n",
    "#finding z-statistic value\n",
    "import pandas as pd\n",
    "import numpy as np\n",
    "from scipy import stats\n",
    "\n",
    "# Sample data\n",
    "sample_mean = 3050  # Sample mean weekly cost (Rs.)\n",
    "theoretical_mean = 1000 + 5 * 600  # Theoretical mean weekly cost according to the cost model\n",
    "sigma = 5 * 25  # Standard deviation\n",
    "n = 25  # Sample size\n",
    "\n",
    "# Calculate the test statistic\n",
    "test_statistic = (sample_mean - theoretical_mean) / (sigma / np.sqrt(n))\n",
    "\n",
    "print(\"Test Statistic:\", test_statistic)"
   ]
  },
  {
   "cell_type": "code",
   "execution_count": 24,
   "id": "b0e9dc19-7baf-41d9-9ae5-9eb7b9509785",
   "metadata": {},
   "outputs": [
    {
     "name": "stdout",
     "output_type": "stream",
     "text": [
      "Critical Value from Z-table: 1.6448536269514722\n"
     ]
    }
   ],
   "source": [
    "#finding critical value\n",
    "#method 1\n",
    "critical_value = stats.norm.ppf(1 - alpha)\n",
    "\n",
    "print(\"Critical Value from Z-table:\", critical_value)\n"
   ]
  },
  {
   "cell_type": "code",
   "execution_count": 26,
   "id": "fc1c39cc-005b-4e16-b73f-42c5d7f0afe4",
   "metadata": {},
   "outputs": [
    {
     "name": "stdout",
     "output_type": "stream",
     "text": [
      "Critical Value from Z-table: 1.645\n"
     ]
    }
   ],
   "source": [
    "#method 2\n",
    "from scipy import stats\n",
    "\n",
    "#alpha = 0.05\n",
    "\n",
    "# critical value from the standard normal (Z) distribution table\n",
    "\n",
    "critical_value = stats.norm.ppf(1 - alpha)\n",
    "\n",
    "print(\"Critical Value from Z-table:\", critical_value.round(3))\n"
   ]
  },
  {
   "cell_type": "code",
   "execution_count": 28,
   "id": "606a34c0-37d3-4120-9041-0afaf3953352",
   "metadata": {},
   "outputs": [
    {
     "data": {
      "text/plain": [
       "0.0"
      ]
     },
     "execution_count": 28,
     "metadata": {},
     "output_type": "execute_result"
    }
   ],
   "source": [
    "#method 1\n",
    "#finding p value\n",
    "import scipy.stats as stats\n",
    "sem=standard_dev/(samplesize**0.5)\n",
    "z_score=(samplemean-popu_mean)/sem\n",
    "z_score\n",
    "\n",
    "###p value\n",
    "pvalue=stats.norm.cdf(z_score)\n",
    "pvalue"
   ]
  },
  {
   "cell_type": "code",
   "execution_count": 32,
   "id": "14374eba-88df-4d72-b5f1-118c1736ff14",
   "metadata": {},
   "outputs": [
    {
     "name": "stdout",
     "output_type": "stream",
     "text": [
      "0.0\n"
     ]
    }
   ],
   "source": [
    "#method 2\n",
    "#finding p value\n",
    "p_value=stats.norm.cdf(test_statistic)\n",
    "print(p_value)"
   ]
  },
  {
   "cell_type": "code",
   "execution_count": 72,
   "id": "f5a22d31-5106-42c6-a152-44142c05503c",
   "metadata": {},
   "outputs": [
    {
     "name": "stdout",
     "output_type": "stream",
     "text": [
      "Ho is rejected and H1 is accepted\n"
     ]
    }
   ],
   "source": [
    "#stating the decision\n",
    "# comparing p value with alpha\n",
    "#method 1\n",
    "alpha=0.05\n",
    "if pvalue<alpha:\n",
    "    print(\"Ho is rejected and H1 is accepted\")\n",
    "else:\n",
    "    print(\"H0 is accepted and H1 is rejected\")"
   ]
  },
  {
   "cell_type": "code",
   "execution_count": 70,
   "id": "ef142ea9-ae7a-4120-bf1c-40bb54a9c48b",
   "metadata": {},
   "outputs": [
    {
     "name": "stdout",
     "output_type": "stream",
     "text": [
      "Ho is rejected and H11 is accepted\n"
     ]
    }
   ],
   "source": [
    "#decision making\n",
    "#comparing test statistic value with tabular value \n",
    "#method 2\n",
    "if zstat<critical_value or test_statistic<critical_value:\n",
    "    print(\"Ho is rejected and H11 is accepted\")\n",
    "else:\n",
    "    print(\"H0 is accepted and H1 is rejected\")\n",
    "    "
   ]
  },
  {
   "cell_type": "code",
   "execution_count": 74,
   "id": "cdea9b94-d86f-4410-914f-82915ef880c5",
   "metadata": {},
   "outputs": [],
   "source": [
    "#hence we can say that we have the significance evidence that the mean operating cost\n",
    "#is greater than the theoretical mean weekly cost developed by the cost model."
   ]
  },
  {
   "cell_type": "code",
   "execution_count": null,
   "id": "111863f4-0b92-43e2-85c7-bc9abe6217c9",
   "metadata": {},
   "outputs": [],
   "source": []
  }
 ],
 "metadata": {
  "kernelspec": {
   "display_name": "anaconda-panel-2023.05-py310",
   "language": "python",
   "name": "conda-env-anaconda-panel-2023.05-py310-py"
  },
  "language_info": {
   "codemirror_mode": {
    "name": "ipython",
    "version": 3
   },
   "file_extension": ".py",
   "mimetype": "text/x-python",
   "name": "python",
   "nbconvert_exporter": "python",
   "pygments_lexer": "ipython3",
   "version": "3.11.5"
  }
 },
 "nbformat": 4,
 "nbformat_minor": 5
}
