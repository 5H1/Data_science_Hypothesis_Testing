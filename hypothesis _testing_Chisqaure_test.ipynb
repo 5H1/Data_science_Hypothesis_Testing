{
 "cells": [
  {
   "cell_type": "code",
   "execution_count": 41,
   "id": "5a943d21-537d-4654-b861-e5f8dc81bb9e",
   "metadata": {},
   "outputs": [],
   "source": [
    "##given problem statement\n",
    "\n",
    "##Association between Device Type and Customer Satisfaction\n",
    "\n",
    "##Background:\n",
    "#Mizzare Corporation has collected data on customer satisfaction levels for two types of smart home devices:\n",
    "#Smart Thermostats and Smart Lights. \n",
    "#They want to determine if there's a significant association between the type of device purchased and the customer's satisfaction level.\n",
    "\n",
    "###Objective:\n",
    "#To use the Chi-Square test for independence to determine if there's a significant association between \n",
    "#the type of smart home device purchased (Smart Thermostats vs. Smart Lights) and the customer satisfaction level."
   ]
  },
  {
   "cell_type": "code",
   "execution_count": 49,
   "id": "c8aeb40a-616f-41c9-99e0-43cdb50fe1f7",
   "metadata": {},
   "outputs": [],
   "source": [
    "#step 1\n",
    "#framing the hypothesis\n",
    "\n",
    "##in order to perform chi-square test of independence the data is not in the csv file for giving to pandas to read it\n",
    "#so the data in converted into csv format.\n",
    "\n",
    "\n",
    "##HYPOTHESIS\n",
    "\n",
    "#H0:There is no significant association between the type of smart home device purchased and the customer satisfaction level. \n",
    "#(type of device and satisfaction level are independent).\n",
    "\n",
    "\n",
    "#H1:There is significant association between the type of smart home device purchased and the customer satisfaction level.\n",
    "#(type of the device and satisfaction level are dependent)."
   ]
  },
  {
   "cell_type": "code",
   "execution_count": 47,
   "id": "ba49d914-55dc-4660-9145-01b10072f51c",
   "metadata": {},
   "outputs": [
    {
     "data": {
      "text/html": [
       "<div>\n",
       "<style scoped>\n",
       "    .dataframe tbody tr th:only-of-type {\n",
       "        vertical-align: middle;\n",
       "    }\n",
       "\n",
       "    .dataframe tbody tr th {\n",
       "        vertical-align: top;\n",
       "    }\n",
       "\n",
       "    .dataframe thead th {\n",
       "        text-align: right;\n",
       "    }\n",
       "</style>\n",
       "<table border=\"1\" class=\"dataframe\">\n",
       "  <thead>\n",
       "    <tr style=\"text-align: right;\">\n",
       "      <th></th>\n",
       "      <th>Satisfaction</th>\n",
       "      <th>Smart Thermostat</th>\n",
       "      <th>Smart Light</th>\n",
       "    </tr>\n",
       "  </thead>\n",
       "  <tbody>\n",
       "    <tr>\n",
       "      <th>0</th>\n",
       "      <td>Very Satisfied</td>\n",
       "      <td>50</td>\n",
       "      <td>70</td>\n",
       "    </tr>\n",
       "    <tr>\n",
       "      <th>1</th>\n",
       "      <td>Satisfied</td>\n",
       "      <td>80</td>\n",
       "      <td>100</td>\n",
       "    </tr>\n",
       "    <tr>\n",
       "      <th>2</th>\n",
       "      <td>Neutral</td>\n",
       "      <td>60</td>\n",
       "      <td>90</td>\n",
       "    </tr>\n",
       "    <tr>\n",
       "      <th>3</th>\n",
       "      <td>Unsatisfied</td>\n",
       "      <td>30</td>\n",
       "      <td>50</td>\n",
       "    </tr>\n",
       "    <tr>\n",
       "      <th>4</th>\n",
       "      <td>Very Satisfied</td>\n",
       "      <td>20</td>\n",
       "      <td>50</td>\n",
       "    </tr>\n",
       "  </tbody>\n",
       "</table>\n",
       "</div>"
      ],
      "text/plain": [
       "     Satisfaction  Smart Thermostat  Smart Light\n",
       "0  Very Satisfied                50           70\n",
       "1       Satisfied                80          100\n",
       "2         Neutral                60           90\n",
       "3     Unsatisfied                30           50\n",
       "4  Very Satisfied                20           50"
      ]
     },
     "execution_count": 47,
     "metadata": {},
     "output_type": "execute_result"
    }
   ],
   "source": [
    "#importing pandas and reading the data from the file.\n",
    "import pandas as pd\n",
    "df=pd.read_csv(\"chi.csv\")\n",
    "df"
   ]
  },
  {
   "cell_type": "code",
   "execution_count": 51,
   "id": "6d11445d-433f-4dde-a769-f88046cc46fb",
   "metadata": {},
   "outputs": [
    {
     "data": {
      "text/html": [
       "<div>\n",
       "<style scoped>\n",
       "    .dataframe tbody tr th:only-of-type {\n",
       "        vertical-align: middle;\n",
       "    }\n",
       "\n",
       "    .dataframe tbody tr th {\n",
       "        vertical-align: top;\n",
       "    }\n",
       "\n",
       "    .dataframe thead tr th {\n",
       "        text-align: left;\n",
       "    }\n",
       "\n",
       "    .dataframe thead tr:last-of-type th {\n",
       "        text-align: right;\n",
       "    }\n",
       "</style>\n",
       "<table border=\"1\" class=\"dataframe\">\n",
       "  <thead>\n",
       "    <tr>\n",
       "      <th></th>\n",
       "      <th colspan=\"6\" halign=\"left\">Smart Thermostat</th>\n",
       "    </tr>\n",
       "    <tr>\n",
       "      <th>Smart Thermostat</th>\n",
       "      <th>20</th>\n",
       "      <th>30</th>\n",
       "      <th>50</th>\n",
       "      <th>60</th>\n",
       "      <th>80</th>\n",
       "      <th>All</th>\n",
       "    </tr>\n",
       "    <tr>\n",
       "      <th>Satisfaction</th>\n",
       "      <th></th>\n",
       "      <th></th>\n",
       "      <th></th>\n",
       "      <th></th>\n",
       "      <th></th>\n",
       "      <th></th>\n",
       "    </tr>\n",
       "  </thead>\n",
       "  <tbody>\n",
       "    <tr>\n",
       "      <th>Neutral</th>\n",
       "      <td>0</td>\n",
       "      <td>0</td>\n",
       "      <td>0</td>\n",
       "      <td>1</td>\n",
       "      <td>0</td>\n",
       "      <td>1</td>\n",
       "    </tr>\n",
       "    <tr>\n",
       "      <th>Satisfied</th>\n",
       "      <td>0</td>\n",
       "      <td>0</td>\n",
       "      <td>0</td>\n",
       "      <td>0</td>\n",
       "      <td>1</td>\n",
       "      <td>1</td>\n",
       "    </tr>\n",
       "    <tr>\n",
       "      <th>Unsatisfied</th>\n",
       "      <td>0</td>\n",
       "      <td>1</td>\n",
       "      <td>0</td>\n",
       "      <td>0</td>\n",
       "      <td>0</td>\n",
       "      <td>1</td>\n",
       "    </tr>\n",
       "    <tr>\n",
       "      <th>Very Satisfied</th>\n",
       "      <td>1</td>\n",
       "      <td>0</td>\n",
       "      <td>1</td>\n",
       "      <td>0</td>\n",
       "      <td>0</td>\n",
       "      <td>2</td>\n",
       "    </tr>\n",
       "    <tr>\n",
       "      <th>All</th>\n",
       "      <td>1</td>\n",
       "      <td>1</td>\n",
       "      <td>1</td>\n",
       "      <td>1</td>\n",
       "      <td>1</td>\n",
       "      <td>5</td>\n",
       "    </tr>\n",
       "  </tbody>\n",
       "</table>\n",
       "</div>"
      ],
      "text/plain": [
       "                 Smart Thermostat                \n",
       "Smart Thermostat               20 30 50 60 80 All\n",
       "Satisfaction                                     \n",
       "Neutral                         0  0  0  1  0   1\n",
       "Satisfied                       0  0  0  0  1   1\n",
       "Unsatisfied                     0  1  0  0  0   1\n",
       "Very Satisfied                  1  0  1  0  0   2\n",
       "All                             1  1  1  1  1   5"
      ]
     },
     "execution_count": 51,
     "metadata": {},
     "output_type": "execute_result"
    }
   ],
   "source": [
    "#since there are 2 variables needs to be compared first we seperated the data by performing\n",
    "#the chi square test using Satisfaction and Smart Thermostat columns.\n",
    "##in order words expected frequency should be calculated for two types of smart home devices\n",
    "import researchpy as rp\n",
    "table1, results1 = rp.crosstab(df[\"Satisfaction\"], df[\"Smart Thermostat\"],test='chi-square')\n",
    "table1"
   ]
  },
  {
   "cell_type": "code",
   "execution_count": 59,
   "id": "f822849f-4589-423c-a74c-5a21a39c5a3b",
   "metadata": {},
   "outputs": [
    {
     "data": {
      "text/html": [
       "<div>\n",
       "<style scoped>\n",
       "    .dataframe tbody tr th:only-of-type {\n",
       "        vertical-align: middle;\n",
       "    }\n",
       "\n",
       "    .dataframe tbody tr th {\n",
       "        vertical-align: top;\n",
       "    }\n",
       "\n",
       "    .dataframe thead th {\n",
       "        text-align: right;\n",
       "    }\n",
       "</style>\n",
       "<table border=\"1\" class=\"dataframe\">\n",
       "  <thead>\n",
       "    <tr style=\"text-align: right;\">\n",
       "      <th></th>\n",
       "      <th>Chi-square test</th>\n",
       "      <th>results</th>\n",
       "    </tr>\n",
       "  </thead>\n",
       "  <tbody>\n",
       "    <tr>\n",
       "      <th>0</th>\n",
       "      <td>Pearson Chi-square ( 12.0) =</td>\n",
       "      <td>15.0000</td>\n",
       "    </tr>\n",
       "    <tr>\n",
       "      <th>1</th>\n",
       "      <td>p-value =</td>\n",
       "      <td>0.2414</td>\n",
       "    </tr>\n",
       "    <tr>\n",
       "      <th>2</th>\n",
       "      <td>Cramer's V =</td>\n",
       "      <td>1.0000</td>\n",
       "    </tr>\n",
       "  </tbody>\n",
       "</table>\n",
       "</div>"
      ],
      "text/plain": [
       "                 Chi-square test  results\n",
       "0  Pearson Chi-square ( 12.0) =   15.0000\n",
       "1                     p-value =    0.2414\n",
       "2                  Cramer's V =    1.0000"
      ]
     },
     "execution_count": 59,
     "metadata": {},
     "output_type": "execute_result"
    }
   ],
   "source": [
    "#step 2,a.\n",
    "results1"
   ]
  },
  {
   "cell_type": "code",
   "execution_count": 109,
   "id": "3f1fd629-0073-4321-bfbe-60f3da111086",
   "metadata": {},
   "outputs": [
    {
     "data": {
      "text/plain": [
       "21.0261"
      ]
     },
     "execution_count": 109,
     "metadata": {},
     "output_type": "execute_result"
    }
   ],
   "source": [
    "#calculating chi_square table value for degrees of freedom=12\n",
    "#chi-square table value (for \" Smart Thermostat \" with Satisfaction Level)\n",
    "import scipy.stats as stats\n",
    "chi_table1 = stats.chi2.ppf(q = 0.95, df = 12)\n",
    "chi_table1.round(4)"
   ]
  },
  {
   "cell_type": "code",
   "execution_count": 57,
   "id": "2581b06e-eb10-4803-a012-8f38a8a5a364",
   "metadata": {},
   "outputs": [
    {
     "data": {
      "text/html": [
       "<div>\n",
       "<style scoped>\n",
       "    .dataframe tbody tr th:only-of-type {\n",
       "        vertical-align: middle;\n",
       "    }\n",
       "\n",
       "    .dataframe tbody tr th {\n",
       "        vertical-align: top;\n",
       "    }\n",
       "\n",
       "    .dataframe thead tr th {\n",
       "        text-align: left;\n",
       "    }\n",
       "\n",
       "    .dataframe thead tr:last-of-type th {\n",
       "        text-align: right;\n",
       "    }\n",
       "</style>\n",
       "<table border=\"1\" class=\"dataframe\">\n",
       "  <thead>\n",
       "    <tr>\n",
       "      <th></th>\n",
       "      <th colspan=\"5\" halign=\"left\">Smart Light</th>\n",
       "    </tr>\n",
       "    <tr>\n",
       "      <th>Smart Light</th>\n",
       "      <th>50</th>\n",
       "      <th>70</th>\n",
       "      <th>90</th>\n",
       "      <th>100</th>\n",
       "      <th>All</th>\n",
       "    </tr>\n",
       "    <tr>\n",
       "      <th>Satisfaction</th>\n",
       "      <th></th>\n",
       "      <th></th>\n",
       "      <th></th>\n",
       "      <th></th>\n",
       "      <th></th>\n",
       "    </tr>\n",
       "  </thead>\n",
       "  <tbody>\n",
       "    <tr>\n",
       "      <th>Neutral</th>\n",
       "      <td>0</td>\n",
       "      <td>0</td>\n",
       "      <td>1</td>\n",
       "      <td>0</td>\n",
       "      <td>1</td>\n",
       "    </tr>\n",
       "    <tr>\n",
       "      <th>Satisfied</th>\n",
       "      <td>0</td>\n",
       "      <td>0</td>\n",
       "      <td>0</td>\n",
       "      <td>1</td>\n",
       "      <td>1</td>\n",
       "    </tr>\n",
       "    <tr>\n",
       "      <th>Unsatisfied</th>\n",
       "      <td>1</td>\n",
       "      <td>0</td>\n",
       "      <td>0</td>\n",
       "      <td>0</td>\n",
       "      <td>1</td>\n",
       "    </tr>\n",
       "    <tr>\n",
       "      <th>Very Satisfied</th>\n",
       "      <td>1</td>\n",
       "      <td>1</td>\n",
       "      <td>0</td>\n",
       "      <td>0</td>\n",
       "      <td>2</td>\n",
       "    </tr>\n",
       "    <tr>\n",
       "      <th>All</th>\n",
       "      <td>2</td>\n",
       "      <td>1</td>\n",
       "      <td>1</td>\n",
       "      <td>1</td>\n",
       "      <td>5</td>\n",
       "    </tr>\n",
       "  </tbody>\n",
       "</table>\n",
       "</div>"
      ],
      "text/plain": [
       "               Smart Light              \n",
       "Smart Light             50 70 90 100 All\n",
       "Satisfaction                            \n",
       "Neutral                  0  0  1   0   1\n",
       "Satisfied                0  0  0   1   1\n",
       "Unsatisfied              1  0  0   0   1\n",
       "Very Satisfied           1  1  0   0   2\n",
       "All                      2  1  1   1   5"
      ]
     },
     "execution_count": 57,
     "metadata": {},
     "output_type": "execute_result"
    }
   ],
   "source": [
    "##observing the conditions for Smart Light criteria\n",
    "table2, results2 = rp.crosstab(df[\"Satisfaction\"], df[\"Smart Light\"],test='chi-square')\n",
    "table2"
   ]
  },
  {
   "cell_type": "code",
   "execution_count": 61,
   "id": "0d69f09e-a624-44f0-abc8-663a094e464b",
   "metadata": {},
   "outputs": [
    {
     "data": {
      "text/html": [
       "<div>\n",
       "<style scoped>\n",
       "    .dataframe tbody tr th:only-of-type {\n",
       "        vertical-align: middle;\n",
       "    }\n",
       "\n",
       "    .dataframe tbody tr th {\n",
       "        vertical-align: top;\n",
       "    }\n",
       "\n",
       "    .dataframe thead th {\n",
       "        text-align: right;\n",
       "    }\n",
       "</style>\n",
       "<table border=\"1\" class=\"dataframe\">\n",
       "  <thead>\n",
       "    <tr style=\"text-align: right;\">\n",
       "      <th></th>\n",
       "      <th>Chi-square test</th>\n",
       "      <th>results</th>\n",
       "    </tr>\n",
       "  </thead>\n",
       "  <tbody>\n",
       "    <tr>\n",
       "      <th>0</th>\n",
       "      <td>Pearson Chi-square ( 9.0) =</td>\n",
       "      <td>11.250</td>\n",
       "    </tr>\n",
       "    <tr>\n",
       "      <th>1</th>\n",
       "      <td>p-value =</td>\n",
       "      <td>0.259</td>\n",
       "    </tr>\n",
       "    <tr>\n",
       "      <th>2</th>\n",
       "      <td>Cramer's V =</td>\n",
       "      <td>0.866</td>\n",
       "    </tr>\n",
       "  </tbody>\n",
       "</table>\n",
       "</div>"
      ],
      "text/plain": [
       "                Chi-square test  results\n",
       "0  Pearson Chi-square ( 9.0) =    11.250\n",
       "1                    p-value =     0.259\n",
       "2                 Cramer's V =     0.866"
      ]
     },
     "execution_count": 61,
     "metadata": {},
     "output_type": "execute_result"
    }
   ],
   "source": [
    "#step 2,b\n",
    "results2"
   ]
  },
  {
   "cell_type": "code",
   "execution_count": 102,
   "id": "834b9d50-8094-4dd6-b5e9-00ff245f8eeb",
   "metadata": {},
   "outputs": [
    {
     "data": {
      "text/plain": [
       "16.918977604620448"
      ]
     },
     "execution_count": 102,
     "metadata": {},
     "output_type": "execute_result"
    }
   ],
   "source": [
    "#calculating chi_square table value for degrees of freedom=9\n",
    "#chi-square table value (for \" Smart Light \" with Satisfaction Level)\n",
    "import scipy.stats as stats\n",
    "chi_table2 = stats.chi2.ppf(q = 0.95, df = 9)\n",
    "chi_table2"
   ]
  },
  {
   "cell_type": "code",
   "execution_count": 63,
   "id": "f6ab765a-ac30-482c-805a-3250a4b17c91",
   "metadata": {},
   "outputs": [
    {
     "name": "stdout",
     "output_type": "stream",
     "text": [
      "Critical value from chi-square distribution: 16.918977604620448\n"
     ]
    }
   ],
   "source": [
    "#step 3\n",
    "\n",
    "###obtaining critical value from chi-square distribution\n",
    "import scipy.stats as stats\n",
    "\n",
    "alpha = 0.05\n",
    "df = 9\n",
    "\n",
    "chi_critical = stats.chi2.ppf(q=1-alpha, df=df)\n",
    "print(\"Critical value from chi-square distribution:\", chi_critical)"
   ]
  },
  {
   "cell_type": "code",
   "execution_count": 98,
   "id": "1dc22a8e-25b5-426e-921b-23c6d486853e",
   "metadata": {},
   "outputs": [],
   "source": [
    "###If the calculated chi-square statistic is greater than the critical value, reject the null hypothesis.\n",
    "###If the calculated chi-square statistic is less than or equal to the critical value, not reject the null hypothesis.\n",
    "###in this case, calculated chi-square statistic of 25 and a critical value of approximately 16.92, \n",
    "###we will reject the null hypothesis because the calculated statistic is more than the critical value."
   ]
  },
  {
   "cell_type": "code",
   "execution_count": 104,
   "id": "73becf68-792b-441a-a612-6786cbee6295",
   "metadata": {},
   "outputs": [
    {
     "name": "stdout",
     "output_type": "stream",
     "text": [
      "H0 is accepted and H1 will be rejected\n"
     ]
    }
   ],
   "source": [
    "#step 4\n",
    "#making the decision\n",
    "\n",
    "test1=15.0000\n",
    "test2=11.250\n",
    "if test1>chi_table1 and test2>chi_table2:\n",
    "    print(\"H0 is rejected and H1 will be accepted\")\n",
    "else:\n",
    "    print(\"H0 is accepted and H1 will be rejected\")"
   ]
  },
  {
   "cell_type": "code",
   "execution_count": null,
   "id": "9c808ad6-e3fb-4dc3-848d-00be952dffd2",
   "metadata": {},
   "outputs": [],
   "source": [
    "###hence we can conclude that we are having strong significance evidence that there is no significant association between smart device and satisfaction levels."
   ]
  }
 ],
 "metadata": {
  "kernelspec": {
   "display_name": "anaconda-panel-2023.05-py310",
   "language": "python",
   "name": "conda-env-anaconda-panel-2023.05-py310-py"
  },
  "language_info": {
   "codemirror_mode": {
    "name": "ipython",
    "version": 3
   },
   "file_extension": ".py",
   "mimetype": "text/x-python",
   "name": "python",
   "nbconvert_exporter": "python",
   "pygments_lexer": "ipython3",
   "version": "3.11.5"
  }
 },
 "nbformat": 4,
 "nbformat_minor": 5
}
